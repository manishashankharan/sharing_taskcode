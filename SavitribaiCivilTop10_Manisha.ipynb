{
 "cells": [
  {
   "cell_type": "code",
   "execution_count": 2,
   "metadata": {},
   "outputs": [],
   "source": [
    "import pandas as pd"
   ]
  },
  {
   "cell_type": "code",
   "execution_count": 3,
   "metadata": {},
   "outputs": [],
   "source": [
    "xl = pd.ExcelFile('/Users/shankharanve/Desktop/college_cutoffs.xls')"
   ]
  },
  {
   "cell_type": "code",
   "execution_count": 4,
   "metadata": {},
   "outputs": [],
   "source": [
    "# Build a dictionary with only dataframes with Savitribai uni and civil engg\n",
    "\n",
    "dict = {}\n",
    "for name in xl.sheet_names:\n",
    "    df = xl.parse(name)\n",
    "    if True in df.eq('Home University : Savitribai Phule Pune University').any(1).values:\n",
    "        isCivil = False\n",
    "        for column in df.columns:\n",
    "            if df[column].str.contains('Civil Engineering').any():\n",
    "                isCivil = True\n",
    "        if isCivil:\n",
    "            dict[name] = df"
   ]
  },
  {
   "cell_type": "code",
   "execution_count": 7,
   "metadata": {},
   "outputs": [
    {
     "name": "stdout",
     "output_type": "stream",
     "text": [
      "[('6006 - College of Engineering, Pune', 1255), ('6004 - Government College of Engineering & Research, Avasari Khurd', 12456), ('6175 - Pimpri Chinchwad Education Trust, Pimpri Chinchwad College of Engineering, Pune', 12971), (\"6289 - B.R.A.C.T's Vishwakarma Institute of Information Technology, Kondhwa (Bk.), Pune\", 14178), ('6146 - MIT Academy of Engineering,Alandi, Pune', 16173), ('6325 - Alard', 23543), (\"5401 - Jawahar Education Society's Institute of Technology, Management & Research, Nashik.\", 27370), (\"6278 - All India Shri Shivaji Memorial Society's College of Engineering, Pune\", 28635), (\"5184 - Amruta Vaishnavi Education & Welfare Trust's Shatabdi Institute of Engineering & Research, Agaskhind Tal. Sinnar\", 32066), ('5121 - K. K. Wagh Institute of Engineering Education and Research, Nashik', 32662)]\n"
     ]
    }
   ],
   "source": [
    "collegeDict = {}\n",
    "for page in dict:\n",
    "    ndf = dict[page]\n",
    "    \n",
    "    # Find college name in each sheet\n",
    "    for row in ndf[ndf.columns[0]]:\n",
    "        if str(row).find(\"-\") != -1:\n",
    "            break\n",
    "    collegeName = row\n",
    "    \n",
    "    civilEnggIndex = -1\n",
    "    otherEnggIndex = -1\n",
    "    foundValue = False\n",
    "    for rowNumber in range(len(ndf)):\n",
    "        columnNumber = 0\n",
    "        for column in ndf.columns:\n",
    "            cell = ndf[column][rowNumber]\n",
    "            if 'Civil Engineering' in str(cell):\n",
    "                civilEnggIndex = rowNumber;\n",
    "            if 'Engineering' in str(cell) and 'Civil Engineering' not in str(cell) and cell != collegeName and columnNumber == 0:\n",
    "                otherEnggIndex = rowNumber;\n",
    "            if cell == 'GOPENS' or cell == 'GOPENH':\n",
    "                if (civilEnggIndex > otherEnggIndex):\n",
    "                    collegeDict[collegeName] = ndf[column][rowNumber+2]\n",
    "                    foundValue = True\n",
    "                    break\n",
    "            if foundValue:\n",
    "                break\n",
    "            columnNumber += 1\n",
    "\n",
    "sortedColleges = sorted(collegeDict.items(), key=lambda x: x[1], reverse=False)[:10]\n",
    "print (sortedColleges)"
   ]
  },
  {
   "cell_type": "code",
   "execution_count": null,
   "metadata": {},
   "outputs": [],
   "source": []
  },
  {
   "cell_type": "code",
   "execution_count": null,
   "metadata": {},
   "outputs": [],
   "source": []
  }
 ],
 "metadata": {
  "kernelspec": {
   "display_name": "Python 3",
   "language": "python",
   "name": "python3"
  },
  "language_info": {
   "codemirror_mode": {
    "name": "ipython",
    "version": 3
   },
   "file_extension": ".py",
   "mimetype": "text/x-python",
   "name": "python",
   "nbconvert_exporter": "python",
   "pygments_lexer": "ipython3",
   "version": "3.7.6"
  }
 },
 "nbformat": 4,
 "nbformat_minor": 4
}
