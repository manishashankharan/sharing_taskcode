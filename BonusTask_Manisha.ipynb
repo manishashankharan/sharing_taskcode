{
 "cells": [
  {
   "cell_type": "code",
   "execution_count": 1,
   "metadata": {},
   "outputs": [],
   "source": [
    "import pandas as pd"
   ]
  },
  {
   "cell_type": "code",
   "execution_count": 2,
   "metadata": {},
   "outputs": [],
   "source": [
    "xl = pd.ExcelFile('/Users/shankharanve/Desktop/college_cutoffs.xls')"
   ]
  },
  {
   "cell_type": "code",
   "execution_count": 3,
   "metadata": {},
   "outputs": [],
   "source": [
    "# Build a dictionary with only dataframes with Savitribai uni and civil engg\n",
    "\n",
    "dict = {}\n",
    "for name in xl.sheet_names:\n",
    "    df = xl.parse(name)\n",
    "    if True in df.eq('Home University : Savitribai Phule Pune University').any(1).values:\n",
    "        isCivil = False\n",
    "        for column in df.columns:\n",
    "            if df[column].str.contains('Civil Engineering').any():\n",
    "                isCivil = True\n",
    "        if isCivil:\n",
    "            dict[name] = df"
   ]
  },
  {
   "cell_type": "code",
   "execution_count": 4,
   "metadata": {},
   "outputs": [
    {
     "name": "stdout",
     "output_type": "stream",
     "text": [
      "[('6006 - College of Engineering, Pune', 5571), ('6146 - MIT Academy of Engineering,Alandi, Pune', 24483), (\"6289 - B.R.A.C.T's Vishwakarma Institute of Information Technology, Kondhwa (Bk.), Pune\", 28518), (\"6141 - Jaywant Shikshan Prasarak Mandal's,Rajarshi Shahu College of Engineering, Tathawade, Pune\", 54394), (\"5160 - Sanjivani Rural Education Society's Sanjivani College of Engineering, Kopargaon\", 76093)]\n"
     ]
    }
   ],
   "source": [
    "#GSCS\n",
    "collegeDict = {}\n",
    "for page in dict:\n",
    "    ndf = dict[page]\n",
    "    \n",
    "    # Find college name in each sheet\n",
    "    for row in ndf[ndf.columns[0]]:\n",
    "        if str(row).find(\"-\") != -1:\n",
    "            break\n",
    "    collegeName = row\n",
    "    \n",
    "    civilEnggIndex = -1\n",
    "    otherEnggIndex = -1\n",
    "    foundValue = False\n",
    "    for rowNumber in range(len(ndf)):\n",
    "        columnNumber = 0\n",
    "        for column in ndf.columns:\n",
    "            cell = ndf[column][rowNumber]\n",
    "            if 'Civil Engineering' in str(cell):\n",
    "                civilEnggIndex = rowNumber;\n",
    "            if 'Engineering' in str(cell) and 'Civil Engineering' not in str(cell) and cell != collegeName and columnNumber == 0:\n",
    "                otherEnggIndex = rowNumber;\n",
    "            if cell == 'GSCS' :\n",
    "                if (civilEnggIndex > otherEnggIndex):\n",
    "                    collegeDict[collegeName] = ndf[column][rowNumber+2]\n",
    "                    foundValue = True\n",
    "                    break\n",
    "            if foundValue:\n",
    "                break\n",
    "            columnNumber += 1\n",
    "\n",
    "sortedColleges = sorted(collegeDict.items(), key=lambda x: x[1], reverse=False)[:10]\n",
    "print (sortedColleges)"
   ]
  },
  {
   "cell_type": "code",
   "execution_count": 5,
   "metadata": {},
   "outputs": [
    {
     "name": "stdout",
     "output_type": "stream",
     "text": [
      "[('6006 - College of Engineering, Pune', 15858), ('6146 - MIT Academy of Engineering,Alandi, Pune', 29660), (\"6289 - B.R.A.C.T's Vishwakarma Institute of Information Technology, Kondhwa (Bk.), Pune\", 72445), (\"5160 - Sanjivani Rural Education Society's Sanjivani College of Engineering, Kopargaon\", 78818), (\"6141 - Jaywant Shikshan Prasarak Mandal's,Rajarshi Shahu College of Engineering, Tathawade, Pune\", 80325)]\n"
     ]
    }
   ],
   "source": [
    "#GSTS\n",
    "collegeDict = {}\n",
    "for page in dict:\n",
    "    ndf = dict[page]\n",
    "    \n",
    "    # Find college name in each sheet\n",
    "    for row in ndf[ndf.columns[0]]:\n",
    "        if str(row).find(\"-\") != -1:\n",
    "            break\n",
    "    collegeName = row\n",
    "    \n",
    "    civilEnggIndex = -1\n",
    "    otherEnggIndex = -1\n",
    "    foundValue = False\n",
    "    for rowNumber in range(len(ndf)):\n",
    "        columnNumber = 0\n",
    "        for column in ndf.columns:\n",
    "            cell = ndf[column][rowNumber]\n",
    "            if 'Civil Engineering' in str(cell):\n",
    "                civilEnggIndex = rowNumber;\n",
    "            if 'Engineering' in str(cell) and 'Civil Engineering' not in str(cell) and cell != collegeName and columnNumber == 0:\n",
    "                otherEnggIndex = rowNumber;\n",
    "            if cell == 'GSTS' :\n",
    "                if (civilEnggIndex > otherEnggIndex):\n",
    "                    collegeDict[collegeName] = ndf[column][rowNumber+2]\n",
    "                    foundValue = True\n",
    "                    break\n",
    "            if foundValue:\n",
    "                break\n",
    "            columnNumber += 1\n",
    "\n",
    "sortedColleges = sorted(collegeDict.items(), key=lambda x: x[1], reverse=False)[:10]\n",
    "print (sortedColleges)"
   ]
  },
  {
   "cell_type": "code",
   "execution_count": 6,
   "metadata": {},
   "outputs": [
    {
     "name": "stdout",
     "output_type": "stream",
     "text": [
      "[('6004 - Government College of Engineering & Research, Avasari Khurd', 30561), ('6175 - Pimpri Chinchwad Education Trust, Pimpri Chinchwad College of Engineering, Pune', 34962), (\"5108 - Nashik District Maratha Vidya Prasarak Samaj's Karmaveer Adv.Babaurao Ganpatrao Thakare College of Engineering, Nashik\", 40664), ('5121 - K. K. Wagh Institute of Engineering Education and Research, Nashik', 44803), (\"5162 - Amrutvahini Sheti & Shikshan Vikas Sanstha's Amrutvahini College of Engineering, Sangamner\", 52141), ('6732 - Dr. D. Y. Patil School OF Engineering, Lohegaon, Pune', 52768), (\"6284 - Vidya Pratishthan's Kamalnayan Bajaj Institute of Engineering & Technology, Baramati Dist.Pune\", 52780), (\"5151 - MET Bhujbal Knowledge City MET League's Engineering College, Adgaon, Nashik.\", 52817), (\"5181 - Gokhale Education Society's, R.H. Sapat College of Engineering, Management Studies and Research, Nashik\", 52847), (\"6278 - All India Shri Shivaji Memorial Society's College of Engineering, Pune\", 54550)]\n"
     ]
    }
   ],
   "source": [
    "#GSTH\n",
    "collegeDict = {}\n",
    "for page in dict:\n",
    "    ndf = dict[page]\n",
    "    \n",
    "    # Find college name in each sheet\n",
    "    for row in ndf[ndf.columns[0]]:\n",
    "        if str(row).find(\"-\") != -1:\n",
    "            break\n",
    "    collegeName = row\n",
    "    \n",
    "    civilEnggIndex = -1\n",
    "    otherEnggIndex = -1\n",
    "    foundValue = False\n",
    "    for rowNumber in range(len(ndf)):\n",
    "        columnNumber = 0\n",
    "        for column in ndf.columns:\n",
    "            cell = ndf[column][rowNumber]\n",
    "            if 'Civil Engineering' in str(cell):\n",
    "                civilEnggIndex = rowNumber;\n",
    "            if 'Engineering' in str(cell) and 'Civil Engineering' not in str(cell) and cell != collegeName and columnNumber == 0:\n",
    "                otherEnggIndex = rowNumber;\n",
    "            if cell == 'GSTH' :\n",
    "                if (civilEnggIndex > otherEnggIndex):\n",
    "                    collegeDict[collegeName] = ndf[column][rowNumber+2]\n",
    "                    foundValue = True\n",
    "                    break\n",
    "            if foundValue:\n",
    "                break\n",
    "            columnNumber += 1\n",
    "\n",
    "sortedColleges = sorted(collegeDict.items(), key=lambda x: x[1], reverse=False)[:10]\n",
    "print (sortedColleges)"
   ]
  },
  {
   "cell_type": "code",
   "execution_count": 7,
   "metadata": {},
   "outputs": [
    {
     "name": "stdout",
     "output_type": "stream",
     "text": [
      "[('6004 - Government College of Engineering & Research, Avasari Khurd', 25811), ('6175 - Pimpri Chinchwad Education Trust, Pimpri Chinchwad College of Engineering, Pune', 31409), (\"6272 - Dr. D. Y. Patil Pratishthan's D.Y.Patil College of Engineering Akurdi, Pune\", 37535), (\"6203 - Marathwada Mitra Mandal's Institute of Technology, Lohgaon, Pune\", 41021), ('6177 - Sinhgad College of Engineering, Vadgaon (BK), Pune', 45883), ('5161 - Dr. Vithalrao Vikhe Patil College of Engineering, Ahmednagar', 51783), ('6802 - Dr. D.Y.Patil Institute of Engineering, Management & Reseach, Akurdi, Pune', 51846), ('5121 - K. K. Wagh Institute of Engineering Education and Research, Nashik', 59020), ('6207 - Dr. D. Y. Patil Vidya Pratishthan Society Dr .D. Y. Patil Institute of Engineering & Technology, Pimpri,Pune', 59754), ('5382 - Ahmednagar Jilha Maratha Vidya Prasarak Samajache, Shri. Chhatrapati Shivaji Maharaj College of Engineering, Nepti', 59771)]\n"
     ]
    }
   ],
   "source": [
    "#GSCH\n",
    "collegeDict = {}\n",
    "for page in dict:\n",
    "    ndf = dict[page]\n",
    "    \n",
    "    # Find college name in each sheet\n",
    "    for row in ndf[ndf.columns[0]]:\n",
    "        if str(row).find(\"-\") != -1:\n",
    "            break\n",
    "    collegeName = row\n",
    "    \n",
    "    civilEnggIndex = -1\n",
    "    otherEnggIndex = -1\n",
    "    foundValue = False\n",
    "    for rowNumber in range(len(ndf)):\n",
    "        columnNumber = 0\n",
    "        for column in ndf.columns:\n",
    "            cell = ndf[column][rowNumber]\n",
    "            if 'Civil Engineering' in str(cell):\n",
    "                civilEnggIndex = rowNumber;\n",
    "            if 'Engineering' in str(cell) and 'Civil Engineering' not in str(cell) and cell != collegeName and columnNumber == 0:\n",
    "                otherEnggIndex = rowNumber;\n",
    "            if cell == 'GSCH' :\n",
    "                if (civilEnggIndex > otherEnggIndex):\n",
    "                    collegeDict[collegeName] = ndf[column][rowNumber+2]\n",
    "                    foundValue = True\n",
    "                    break\n",
    "            if foundValue:\n",
    "                break\n",
    "            columnNumber += 1\n",
    "\n",
    "sortedColleges = sorted(collegeDict.items(), key=lambda x: x[1], reverse=False)[:10]\n",
    "print (sortedColleges)"
   ]
  },
  {
   "cell_type": "code",
   "execution_count": null,
   "metadata": {},
   "outputs": [],
   "source": []
  },
  {
   "cell_type": "code",
   "execution_count": 9,
   "metadata": {},
   "outputs": [
    {
     "name": "stdout",
     "output_type": "stream",
     "text": [
      "[('6175 - Pimpri Chinchwad Education Trust, Pimpri Chinchwad College of Engineering, Pune', 14955), ('6004 - Government College of Engineering & Research, Avasari Khurd', 15793), ('5121 - K. K. Wagh Institute of Engineering Education and Research, Nashik', 36880), (\"6278 - All India Shri Shivaji Memorial Society's College of Engineering, Pune\", 40812), (\"5108 - Nashik District Maratha Vidya Prasarak Samaj's Karmaveer Adv.Babaurao Ganpatrao Thakare College of Engineering, Nashik\", 41417), (\"5162 - Amrutvahini Sheti & Shikshan Vikas Sanstha's Amrutvahini College of Engineering, Sangamner\", 42893), (\"5151 - MET Bhujbal Knowledge City MET League's Engineering College, Adgaon, Nashik.\", 47038), ('5161 - Dr. Vithalrao Vikhe Patil College of Engineering, Ahmednagar', 49807), ('5139 - Pravara Rural College of Engineering, Loni, Pravaranagar, Ahmednagar.', 49880), (\"6822 - Pimpri Chinchwad Education Trust's Pimpri Chinchwad College Of Engineering And Research, Ravet\", 57714)]\n"
     ]
    }
   ],
   "source": [
    "#GOBCH\n",
    "collegeDict = {}\n",
    "for page in dict:\n",
    "    ndf = dict[page]\n",
    "    \n",
    "    # Find college name in each sheet\n",
    "    for row in ndf[ndf.columns[0]]:\n",
    "        if str(row).find(\"-\") != -1:\n",
    "            break\n",
    "    collegeName = row\n",
    "    \n",
    "    civilEnggIndex = -1\n",
    "    otherEnggIndex = -1\n",
    "    foundValue = False\n",
    "    for rowNumber in range(len(ndf)):\n",
    "        columnNumber = 0\n",
    "        for column in ndf.columns:\n",
    "            cell = ndf[column][rowNumber]\n",
    "            if 'Civil Engineering' in str(cell):\n",
    "                civilEnggIndex = rowNumber;\n",
    "            if 'Engineering' in str(cell) and 'Civil Engineering' not in str(cell) and cell != collegeName and columnNumber == 0:\n",
    "                otherEnggIndex = rowNumber;\n",
    "            if cell == 'GOBCH' :\n",
    "                if (civilEnggIndex > otherEnggIndex):\n",
    "                    collegeDict[collegeName] = ndf[column][rowNumber+2]\n",
    "                    foundValue = True\n",
    "                    break\n",
    "            if foundValue:\n",
    "                break\n",
    "            columnNumber += 1\n",
    "\n",
    "sortedColleges = sorted(collegeDict.items(), key=lambda x: x[1], reverse=False)[:10]\n",
    "print (sortedColleges)"
   ]
  },
  {
   "cell_type": "code",
   "execution_count": null,
   "metadata": {},
   "outputs": [],
   "source": []
  },
  {
   "cell_type": "code",
   "execution_count": null,
   "metadata": {},
   "outputs": [],
   "source": []
  }
 ],
 "metadata": {
  "kernelspec": {
   "display_name": "Python 3",
   "language": "python",
   "name": "python3"
  },
  "language_info": {
   "codemirror_mode": {
    "name": "ipython",
    "version": 3
   },
   "file_extension": ".py",
   "mimetype": "text/x-python",
   "name": "python",
   "nbconvert_exporter": "python",
   "pygments_lexer": "ipython3",
   "version": "3.7.6"
  }
 },
 "nbformat": 4,
 "nbformat_minor": 4
}
